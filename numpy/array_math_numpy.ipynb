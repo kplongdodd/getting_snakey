{
 "cells": [
  {
   "cell_type": "markdown",
   "metadata": {},
   "source": [
    "# Array Math in Numpy\n",
    "\n",
    "Numpy enables both elementwise and matrix operations. Many operations are implemented as both functions and methods of numpy object instances. "
   ]
  },
  {
   "cell_type": "code",
   "execution_count": 1,
   "metadata": {},
   "outputs": [],
   "source": [
    "import numpy as np"
   ]
  },
  {
   "cell_type": "code",
   "execution_count": 2,
   "metadata": {},
   "outputs": [
    {
     "name": "stdout",
     "output_type": "stream",
     "text": [
      "x:\n",
      " [[1 2]\n",
      " [3 4]]\n",
      "y:\n",
      " [[5 6]\n",
      " [7 8]]\n"
     ]
    }
   ],
   "source": [
    "x = np.array([[1, 2], [3, 4]])\n",
    "y = np.array([[5, 6], [7, 8]])\n",
    "print('x:\\n', x)\n",
    "print('y:\\n', y)"
   ]
  },
  {
   "cell_type": "markdown",
   "metadata": {},
   "source": [
    "## Elementwise addition, subtraction, division and multiplication\n",
    "\n",
    "`np.add()` is equivalent to the `+` operator and performs elementwise addition"
   ]
  },
  {
   "cell_type": "code",
   "execution_count": 3,
   "metadata": {},
   "outputs": [
    {
     "name": "stdout",
     "output_type": "stream",
     "text": [
      "z1:\n",
      " [[ 6  8]\n",
      " [10 12]]\n",
      "z2:\n",
      " [[ 6  8]\n",
      " [10 12]]\n"
     ]
    }
   ],
   "source": [
    "z1 = x + y\n",
    "z2 = np.add(x, y)\n",
    "print('z1:\\n', z1)\n",
    "print('z2:\\n', z2)"
   ]
  },
  {
   "cell_type": "markdown",
   "metadata": {},
   "source": [
    "Likewise, `np.subtract()` is equivalent to the `-` operator and performs elementwise subtraction"
   ]
  },
  {
   "cell_type": "code",
   "execution_count": 4,
   "metadata": {},
   "outputs": [
    {
     "name": "stdout",
     "output_type": "stream",
     "text": [
      "z3:\n",
      " [[4 4]\n",
      " [4 4]]\n",
      "z4:\n",
      " [[4 4]\n",
      " [4 4]]\n"
     ]
    }
   ],
   "source": [
    "z3 = y - x\n",
    "z4 = np.subtract(y, x)\n",
    "print('z3:\\n', z3)\n",
    "print('z4:\\n', z4)"
   ]
  },
  {
   "cell_type": "markdown",
   "metadata": {},
   "source": [
    "`np.multiply()` is equivalent to `*`; `np.divide` is equivalent to `/`"
   ]
  },
  {
   "cell_type": "code",
   "execution_count": 5,
   "metadata": {},
   "outputs": [
    {
     "name": "stdout",
     "output_type": "stream",
     "text": [
      "z5:\n",
      " [[ 5 12]\n",
      " [21 32]]\n",
      "z6:\n",
      " [[ 5 12]\n",
      " [21 32]]\n",
      "z7:\n",
      " [[ 5.          3.        ]\n",
      " [ 2.33333333  2.        ]]\n",
      "z8:\n",
      " [[ 5.          3.        ]\n",
      " [ 2.33333333  2.        ]]\n"
     ]
    }
   ],
   "source": [
    "z5 = x * y\n",
    "z6 = np.multiply(x, y)\n",
    "z7 = y/x\n",
    "z8 = np.divide(y, x)\n",
    "print('z5:\\n', z5)\n",
    "print('z6:\\n', z6)\n",
    "print('z7:\\n', z7)\n",
    "print('z8:\\n', z8)"
   ]
  },
  {
   "cell_type": "markdown",
   "metadata": {},
   "source": [
    "`np.sqrt()` performs elementwise square root - **not the same as `math.sqrt()`**"
   ]
  },
  {
   "cell_type": "code",
   "execution_count": 6,
   "metadata": {},
   "outputs": [
    {
     "name": "stdout",
     "output_type": "stream",
     "text": [
      "z9:\n",
      " [[ 2.23606798  2.44948974]\n",
      " [ 2.64575131  2.82842712]]\n"
     ]
    }
   ],
   "source": [
    "z9 = np.sqrt(y)\n",
    "print('z9:\\n', z9)"
   ]
  },
  {
   "cell_type": "markdown",
   "metadata": {},
   "source": [
    "## Matrix Multiplication\n",
    "\n",
    "We saw above that `*` performs elementwise multiplication. To do matrix multiplication (inner product), use `np.dot()`, available as both a function and a method of numpy array objects. "
   ]
  },
  {
   "cell_type": "code",
   "execution_count": 7,
   "metadata": {},
   "outputs": [
    {
     "name": "stdout",
     "output_type": "stream",
     "text": [
      "a:\n",
      " [ 9 10]\n",
      "b:\n",
      " [4 5]\n",
      "x:\n",
      " [[1 2]\n",
      " [3 4]]\n",
      "y:\n",
      " [[5 6]\n",
      " [7 8]]\n"
     ]
    }
   ],
   "source": [
    "a = np.array([9, 10])\n",
    "b = np.array([4, 5])\n",
    "print('a:\\n', a)\n",
    "print('b:\\n', b)\n",
    "print('x:\\n', x)\n",
    "print('y:\\n', y)"
   ]
  },
  {
   "cell_type": "markdown",
   "metadata": {},
   "source": [
    "### Vector-vector dot product\n",
    "\n",
    "Produces a scalar"
   ]
  },
  {
   "cell_type": "code",
   "execution_count": 8,
   "metadata": {},
   "outputs": [
    {
     "name": "stdout",
     "output_type": "stream",
     "text": [
      "c1:\n",
      " 86\n",
      "c2:\n",
      " 86\n"
     ]
    }
   ],
   "source": [
    "c1 = np.dot(a, b)\n",
    "c2 = a.dot(b)\n",
    "print('c1:\\n', c1)\n",
    "print('c2:\\n', c2)"
   ]
  },
  {
   "cell_type": "markdown",
   "metadata": {},
   "source": [
    "### Matrix-vector dot product\n",
    "\n",
    "Produces a vector (rank 1 array)"
   ]
  },
  {
   "cell_type": "code",
   "execution_count": 9,
   "metadata": {},
   "outputs": [
    {
     "name": "stdout",
     "output_type": "stream",
     "text": [
      "d1:\n",
      " [29 67]\n",
      "d2:\n",
      " [29 67]\n"
     ]
    }
   ],
   "source": [
    "d1 = np.dot(x, a)\n",
    "d2 = x.dot(a)\n",
    "print('d1:\\n', d1)\n",
    "print('d2:\\n', d2)"
   ]
  },
  {
   "cell_type": "markdown",
   "metadata": {},
   "source": [
    "### Matrix-matrix dot product\n",
    "\n",
    "Produces a matrix (rank 2 array)"
   ]
  },
  {
   "cell_type": "code",
   "execution_count": 10,
   "metadata": {},
   "outputs": [
    {
     "name": "stdout",
     "output_type": "stream",
     "text": [
      "e1:\n",
      " [[19 22]\n",
      " [43 50]]\n",
      "e2:\n",
      " [[19 22]\n",
      " [43 50]]\n"
     ]
    }
   ],
   "source": [
    "e1 = np.dot(x, y)\n",
    "e2 = x.dot(y)\n",
    "print('e1:\\n', e1)\n",
    "print('e2:\\n', e2)"
   ]
  },
  {
   "cell_type": "markdown",
   "metadata": {},
   "source": [
    "## Sum over rows, columns, or entire arrays"
   ]
  },
  {
   "cell_type": "code",
   "execution_count": 11,
   "metadata": {},
   "outputs": [
    {
     "data": {
      "text/plain": [
       "array([[1, 2],\n",
       "       [3, 4]])"
      ]
     },
     "execution_count": 11,
     "metadata": {},
     "output_type": "execute_result"
    }
   ],
   "source": [
    "x"
   ]
  },
  {
   "cell_type": "markdown",
   "metadata": {},
   "source": [
    "### Sum entire array"
   ]
  },
  {
   "cell_type": "code",
   "execution_count": 12,
   "metadata": {},
   "outputs": [
    {
     "data": {
      "text/plain": [
       "10"
      ]
     },
     "execution_count": 12,
     "metadata": {},
     "output_type": "execute_result"
    }
   ],
   "source": [
    "np.sum(x)"
   ]
  },
  {
   "cell_type": "markdown",
   "metadata": {},
   "source": [
    "### Sum over rows"
   ]
  },
  {
   "cell_type": "code",
   "execution_count": 13,
   "metadata": {},
   "outputs": [
    {
     "data": {
      "text/plain": [
       "array([3, 7])"
      ]
     },
     "execution_count": 13,
     "metadata": {},
     "output_type": "execute_result"
    }
   ],
   "source": [
    "np.sum(x, axis=1)"
   ]
  },
  {
   "cell_type": "markdown",
   "metadata": {},
   "source": [
    "### Sum over columns"
   ]
  },
  {
   "cell_type": "code",
   "execution_count": 14,
   "metadata": {},
   "outputs": [
    {
     "data": {
      "text/plain": [
       "array([4, 6])"
      ]
     },
     "execution_count": 14,
     "metadata": {},
     "output_type": "execute_result"
    }
   ],
   "source": [
    "np.sum(x, axis=0)"
   ]
  }
 ],
 "metadata": {
  "kernelspec": {
   "display_name": "Python 3",
   "language": "python",
   "name": "python3"
  },
  "language_info": {
   "codemirror_mode": {
    "name": "ipython",
    "version": 3
   },
   "file_extension": ".py",
   "mimetype": "text/x-python",
   "name": "python",
   "nbconvert_exporter": "python",
   "pygments_lexer": "ipython3",
   "version": "3.5.2"
  }
 },
 "nbformat": 4,
 "nbformat_minor": 2
}
