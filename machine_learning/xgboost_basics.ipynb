{
 "cells": [
  {
   "cell_type": "markdown",
   "metadata": {},
   "source": [
    "# XGBoost in Python\n",
    "\n",
    "Simple xgboost model for classifying Iris data with default parameters"
   ]
  },
  {
   "cell_type": "code",
   "execution_count": 29,
   "metadata": {},
   "outputs": [],
   "source": [
    "import xgboost as xgb\n",
    "import numpy as np\n",
    "\n",
    "from sklearn import datasets\n",
    "from sklearn.metrics import confusion_matrix, accuracy_score\n",
    "from sklearn.model_selection import train_test_split"
   ]
  },
  {
   "cell_type": "markdown",
   "metadata": {},
   "source": [
    "## Load data"
   ]
  },
  {
   "cell_type": "code",
   "execution_count": 30,
   "metadata": {},
   "outputs": [],
   "source": [
    "iris = datasets.load_iris()\n",
    "x = iris.data\n",
    "y = iris.target"
   ]
  },
  {
   "cell_type": "markdown",
   "metadata": {},
   "source": [
    "## Split into train/test sets\n",
    "\n",
    "`sklearn.model_selection.train_test_split()` performs random subsampling of features and target"
   ]
  },
  {
   "cell_type": "code",
   "execution_count": 31,
   "metadata": {},
   "outputs": [
    {
     "data": {
      "text/plain": [
       "array([0, 0, 1, 1, 2, 0, 1, 2, 2, 1, 0, 0, 2, 1, 0, 2, 2, 0, 1, 1, 1, 1, 0,\n",
       "       0, 2, 0, 2, 2, 2, 2, 2, 0, 0, 1, 1, 2, 0, 0, 2, 0, 2, 2, 0, 2, 1, 1,\n",
       "       1, 2, 2, 1])"
      ]
     },
     "execution_count": 31,
     "metadata": {},
     "output_type": "execute_result"
    }
   ],
   "source": [
    "X_train, X_test, y_train, y_test = train_test_split(x, y, test_size=0.33, random_state=503)\n",
    "y_test"
   ]
  },
  {
   "cell_type": "markdown",
   "metadata": {},
   "source": [
    "## Train default model - no hyperparameter tuning\n",
    "\n",
    "No need to specify three-way softmax for output: XGB detects that this is a multi-class classification problem and applies the correct objective function."
   ]
  },
  {
   "cell_type": "code",
   "execution_count": 32,
   "metadata": {},
   "outputs": [
    {
     "data": {
      "text/plain": [
       "XGBClassifier(base_score=0.5, colsample_bylevel=1, colsample_bytree=1,\n",
       "       gamma=0, learning_rate=0.1, max_delta_step=0, max_depth=3,\n",
       "       min_child_weight=1, missing=None, n_estimators=100, nthread=-1,\n",
       "       objective='multi:softprob', reg_alpha=0, reg_lambda=1,\n",
       "       scale_pos_weight=1, seed=0, silent=True, subsample=1)"
      ]
     },
     "execution_count": 32,
     "metadata": {},
     "output_type": "execute_result"
    }
   ],
   "source": [
    "default_model = xgb.XGBClassifier()\n",
    "default_model.fit(X_train, y_train)"
   ]
  },
  {
   "cell_type": "markdown",
   "metadata": {},
   "source": [
    "## In-sample performance"
   ]
  },
  {
   "cell_type": "code",
   "execution_count": 33,
   "metadata": {},
   "outputs": [
    {
     "name": "stdout",
     "output_type": "stream",
     "text": [
      "In-sample accuracy:  100.0 %\n",
      "In-sample confusion matrix:\n",
      " [[34  0  0]\n",
      " [ 0 35  0]\n",
      " [ 0  0 31]]\n"
     ]
    }
   ],
   "source": [
    "is_preds = default_model.predict(X_train)\n",
    "is_acc = accuracy_score(y_train, is_preds)\n",
    "is_conf_mat = confusion_matrix(y_train, is_preds)\n",
    "print('In-sample accuracy: ', is_acc*100, '%')\n",
    "print('In-sample confusion matrix:\\n', is_conf_mat)"
   ]
  },
  {
   "cell_type": "markdown",
   "metadata": {},
   "source": [
    "## Out-of-sample performance"
   ]
  },
  {
   "cell_type": "code",
   "execution_count": 34,
   "metadata": {},
   "outputs": [
    {
     "name": "stdout",
     "output_type": "stream",
     "text": [
      "Out-of-sample accuracy:  94.0 %\n",
      "Out-of-sample confusion matrix: \n",
      " [[16  0  0]\n",
      " [ 0 13  2]\n",
      " [ 0  1 18]]\n"
     ]
    }
   ],
   "source": [
    "oos_preds = default_model.predict(X_test)\n",
    "oos_acc = accuracy_score(y_test, oos_preds)\n",
    "oos_conf_mat = confusion_matrix(y_test, oos_preds)\n",
    "print('Out-of-sample accuracy: ', oos_acc*100, '%')\n",
    "print('Out-of-sample confusion matrix: \\n', oos_conf_mat)"
   ]
  },
  {
   "cell_type": "code",
   "execution_count": null,
   "metadata": {},
   "outputs": [],
   "source": []
  }
 ],
 "metadata": {
  "kernelspec": {
   "display_name": "Python 3",
   "language": "python",
   "name": "python3"
  },
  "language_info": {
   "codemirror_mode": {
    "name": "ipython",
    "version": 3
   },
   "file_extension": ".py",
   "mimetype": "text/x-python",
   "name": "python",
   "nbconvert_exporter": "python",
   "pygments_lexer": "ipython3",
   "version": "3.5.2"
  }
 },
 "nbformat": 4,
 "nbformat_minor": 2
}
