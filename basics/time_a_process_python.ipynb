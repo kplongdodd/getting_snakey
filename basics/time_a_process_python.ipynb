{
 "cells": [
  {
   "cell_type": "markdown",
   "metadata": {},
   "source": [
    "# Time a Process in Python"
   ]
  },
  {
   "cell_type": "code",
   "execution_count": 2,
   "metadata": {},
   "outputs": [],
   "source": [
    "import time\n",
    "import numpy as np"
   ]
  },
  {
   "cell_type": "markdown",
   "metadata": {},
   "source": [
    "## Crate a large matrix"
   ]
  },
  {
   "cell_type": "code",
   "execution_count": 13,
   "metadata": {},
   "outputs": [
    {
     "data": {
      "text/plain": [
       "array([[ 0.90723823,  0.11647846,  0.91760876, ...,  0.11423511,\n",
       "         0.51947403,  0.38706058],\n",
       "       [ 0.78183224,  0.72112218,  0.12362192, ...,  0.76758871,\n",
       "         0.87899771,  0.16019683],\n",
       "       [ 0.59759461,  0.18557111,  0.88950074, ...,  0.93873185,\n",
       "         0.22922521,  0.68558932],\n",
       "       ..., \n",
       "       [ 0.49800366,  0.36126422,  0.614414  , ...,  0.32018863,\n",
       "         0.80670955,  0.80281237],\n",
       "       [ 0.9989198 ,  0.55373903,  0.75222382, ...,  0.54831291,\n",
       "         0.0563589 ,  0.55555709],\n",
       "       [ 0.46163306,  0.63525363,  0.00762183, ...,  0.8270224 ,\n",
       "         0.66648998,  0.95905587]])"
      ]
     },
     "execution_count": 13,
     "metadata": {},
     "output_type": "execute_result"
    }
   ],
   "source": [
    "my_matrix = np.random.random((500,500))\n",
    "my_matrix"
   ]
  },
  {
   "cell_type": "markdown",
   "metadata": {},
   "source": [
    "### Time the calculation of the inverse matrix"
   ]
  },
  {
   "cell_type": "code",
   "execution_count": 15,
   "metadata": {},
   "outputs": [
    {
     "name": "stdout",
     "output_type": "stream",
     "text": [
      "Time taken to compute inverse:  0.27275800704956055 s\n"
     ]
    }
   ],
   "source": [
    "start = time.time()\n",
    "\n",
    "np.linalg.inv(my_matrix)\n",
    "\n",
    "print(\"Time taken to compute inverse: \", time.time() - start, \"s\")"
   ]
  },
  {
   "cell_type": "code",
   "execution_count": null,
   "metadata": {},
   "outputs": [],
   "source": []
  }
 ],
 "metadata": {
  "kernelspec": {
   "display_name": "Python 3",
   "language": "python",
   "name": "python3"
  },
  "language_info": {
   "codemirror_mode": {
    "name": "ipython",
    "version": 3
   },
   "file_extension": ".py",
   "mimetype": "text/x-python",
   "name": "python",
   "nbconvert_exporter": "python",
   "pygments_lexer": "ipython3",
   "version": "3.5.2"
  }
 },
 "nbformat": 4,
 "nbformat_minor": 2
}
