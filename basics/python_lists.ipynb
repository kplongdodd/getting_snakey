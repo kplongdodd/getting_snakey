{
 "cells": [
  {
   "cell_type": "markdown",
   "metadata": {},
   "source": [
    "# Lists"
   ]
  },
  {
   "cell_type": "markdown",
   "metadata": {},
   "source": [
    "## Basics\n",
    "### Creating and accessing\n",
    "Create a list using square brackets: `[ ]`  \n",
    "Access data inside a list using square brackets and index notation (0-indexed).  \n",
    "The `len()` function is also useful."
   ]
  },
  {
   "cell_type": "code",
   "execution_count": 29,
   "metadata": {},
   "outputs": [
    {
     "name": "stdout",
     "output_type": "stream",
     "text": [
      "First element: square\n",
      "Last element: dodecahedron\n",
      "Number of elements: 3\n"
     ]
    }
   ],
   "source": [
    "shapes = ['square', 'circle', 'dodecahedron']\n",
    "print('First element:', shapes[0])\n",
    "print('Last element:', shapes[-1])\n",
    "print('Number of elements:', len(shapes))"
   ]
  },
  {
   "cell_type": "markdown",
   "metadata": {},
   "source": [
    "### Appending to an existing list"
   ]
  },
  {
   "cell_type": "code",
   "execution_count": 19,
   "metadata": {},
   "outputs": [
    {
     "data": {
      "text/plain": [
       "[1, 2, 3, 4, 5, 6, 7]"
      ]
     },
     "execution_count": 19,
     "metadata": {},
     "output_type": "execute_result"
    }
   ],
   "source": [
    "my_list = [1, 2, 3]\n",
    "my_list += [4, 5, 6, 7]\n",
    "my_list"
   ]
  },
  {
   "cell_type": "markdown",
   "metadata": {},
   "source": [
    "#### equivalently:"
   ]
  },
  {
   "cell_type": "code",
   "execution_count": 22,
   "metadata": {},
   "outputs": [
    {
     "data": {
      "text/plain": [
       "[1, 2, 3, 4]"
      ]
     },
     "execution_count": 22,
     "metadata": {},
     "output_type": "execute_result"
    }
   ],
   "source": [
    "my_list = [1, 2, 3]\n",
    "my_list.append(4)\n",
    "my_list"
   ]
  },
  {
   "cell_type": "markdown",
   "metadata": {},
   "source": [
    "#### but appending a list makes a list element itself a list"
   ]
  },
  {
   "cell_type": "code",
   "execution_count": 23,
   "metadata": {},
   "outputs": [
    {
     "data": {
      "text/plain": [
       "[1, 2, 3, 4, [5, 6, 7]]"
      ]
     },
     "execution_count": 23,
     "metadata": {},
     "output_type": "execute_result"
    }
   ],
   "source": [
    "my_list.append([5, 6, 7])\n",
    "my_list"
   ]
  },
  {
   "cell_type": "markdown",
   "metadata": {},
   "source": [
    "### Assignment\n",
    "\n",
    "Assignment with `=` __does not__ make a copy. Rather, the new variable __points to__ the same memory location as the original.  \n",
    "Note what happens to our original list `shapes` when we operate on it's \"copy\":"
   ]
  },
  {
   "cell_type": "code",
   "execution_count": 30,
   "metadata": {},
   "outputs": [
    {
     "name": "stdout",
     "output_type": "stream",
     "text": [
      "['square', 'circle', 'dodecahedron']\n"
     ]
    },
    {
     "data": {
      "text/plain": [
       "['square', 'circle', 'dodecahedron', 'hexagon', 'tetrahedron']"
      ]
     },
     "execution_count": 30,
     "metadata": {},
     "output_type": "execute_result"
    }
   ],
   "source": [
    "print(shapes)\n",
    "more_shapes = shapes\n",
    "more_shapes += ['hexagon', 'tetrahedron']\n",
    "shapes"
   ]
  },
  {
   "cell_type": "markdown",
   "metadata": {},
   "source": [
    "## Iteration\n",
    "\n",
    "### looping over a list using the `for i in list` construct:  \n",
    "\n",
    "*Note: good practice dictates that `i` be in some way descriptive of what's in the list: since python doesn't have syntax to remind you of types, this practice helps to create readable code.*"
   ]
  },
  {
   "cell_type": "code",
   "execution_count": 35,
   "metadata": {},
   "outputs": [
    {
     "name": "stdout",
     "output_type": "stream",
     "text": [
      "1\n",
      "3\n",
      "5\n",
      "7\n",
      "11\n",
      "13\n",
      "17\n",
      "19\n",
      "The sum of the first  8 primes is 76\n"
     ]
    }
   ],
   "source": [
    "primes = [1, 3, 5, 7, 11, 13, 17, 19]\n",
    "prime_sum = 0\n",
    "\n",
    "for prime in primes:\n",
    "    print(prime)\n",
    "    prime_sum += prime\n",
    "    \n",
    "print('The sum of the first ', len(primes), 'primes is', prime_sum)\n",
    "    "
   ]
  },
  {
   "cell_type": "markdown",
   "metadata": {},
   "source": [
    "### Test for something's presence in a list"
   ]
  },
  {
   "cell_type": "code",
   "execution_count": 36,
   "metadata": {},
   "outputs": [
    {
     "name": "stdout",
     "output_type": "stream",
     "text": [
      "11 is prime\n"
     ]
    }
   ],
   "source": [
    "if 11 in primes:\n",
    "    print('11 is prime')"
   ]
  },
  {
   "cell_type": "markdown",
   "metadata": {},
   "source": [
    "## List comprehensions and using `range()` to create lists of integers\n",
    "\n",
    "Syntax: `range(from, to, step)`:  \n",
    "* `step` is optional (if ommitted, defaults to 1)  \n",
    "* `to` is *up to but not including*"
   ]
  },
  {
   "cell_type": "code",
   "execution_count": 43,
   "metadata": {},
   "outputs": [
    {
     "data": {
      "text/plain": [
       "[0, 1, 2, 3, 4, 5, 6, 7, 8, 9]"
      ]
     },
     "execution_count": 43,
     "metadata": {},
     "output_type": "execute_result"
    }
   ],
   "source": [
    "[i for i in range(0, 10)]"
   ]
  },
  {
   "cell_type": "code",
   "execution_count": 47,
   "metadata": {},
   "outputs": [
    {
     "data": {
      "text/plain": [
       "[5, 10, 15, 20, 25, 30, 35, 40, 45, 50, 55]"
      ]
     },
     "execution_count": 47,
     "metadata": {},
     "output_type": "execute_result"
    }
   ],
   "source": [
    "[i for i in range(5, 56, 5)]"
   ]
  },
  {
   "cell_type": "markdown",
   "metadata": {},
   "source": [
    "## Slicing"
   ]
  },
  {
   "cell_type": "code",
   "execution_count": null,
   "metadata": {},
   "outputs": [],
   "source": []
  },
  {
   "cell_type": "code",
   "execution_count": null,
   "metadata": {},
   "outputs": [],
   "source": []
  },
  {
   "cell_type": "markdown",
   "metadata": {},
   "source": [
    "List Build Up\n",
    "\n",
    "One common pattern is to start a list a the empty list [], then use append() or extend() to add elements to it:"
   ]
  },
  {
   "cell_type": "markdown",
   "metadata": {},
   "source": [
    "## Hacks and Tricks"
   ]
  },
  {
   "cell_type": "markdown",
   "metadata": {},
   "source": [
    "### Reverse a list's order"
   ]
  },
  {
   "cell_type": "code",
   "execution_count": 48,
   "metadata": {},
   "outputs": [
    {
     "name": "stdout",
     "output_type": "stream",
     "text": [
      "[1, 2, 3, 4, 5, 6, 7, 8, 9, 10]\n",
      "[10, 9, 8, 7, 6, 5, 4, 3, 2, 1]\n"
     ]
    }
   ],
   "source": [
    "nums = [i for i in range(1,11)]\n",
    "print(nums)\n",
    "rev_nums = nums[::-1]\n",
    "print(rev_nums)"
   ]
  },
  {
   "cell_type": "markdown",
   "metadata": {},
   "source": [
    "### Get the maximum value and it's index from a list"
   ]
  },
  {
   "cell_type": "markdown",
   "metadata": {},
   "source": [
    "#### Approach 1: use list methods"
   ]
  },
  {
   "cell_type": "code",
   "execution_count": 54,
   "metadata": {},
   "outputs": [
    {
     "name": "stdout",
     "output_type": "stream",
     "text": [
      "Maximum value: 10\n",
      "Maximum's index: 9\n"
     ]
    }
   ],
   "source": [
    "maximum = max(nums)\n",
    "max_ind = nums.index(max(nums))\n",
    "\n",
    "print('Maximum value:', maximum)\n",
    "print(\"Maximum's index:\", max_ind)"
   ]
  },
  {
   "cell_type": "markdown",
   "metadata": {},
   "source": [
    "#### Approach 2: use numpy"
   ]
  },
  {
   "cell_type": "code",
   "execution_count": 55,
   "metadata": {},
   "outputs": [
    {
     "name": "stdout",
     "output_type": "stream",
     "text": [
      "Maximum value: 10\n",
      "Maximum's index: 9\n"
     ]
    }
   ],
   "source": [
    "import numpy as np\n",
    "maximum = np.max(nums)\n",
    "max_ind = np.argmax(nums)\n",
    "\n",
    "print('Maximum value:', maximum)\n",
    "print(\"Maximum's index:\", max_ind)"
   ]
  },
  {
   "cell_type": "markdown",
   "metadata": {},
   "source": [
    "The numpy approach will tend to be faster for lists larger than ~100 elements - and speed doesn't really matter for lists smaller than this anyway. __So default to numpy as a rule.__"
   ]
  },
  {
   "cell_type": "markdown",
   "metadata": {},
   "source": [
    "List Methods\n",
    "\n",
    "Here are some other common list methods.\n",
    "\n",
    "    list.append(elem) -- adds a single element to the end of the list. Common error: does not return the new list, just modifies the original.\n",
    "    list.insert(index, elem) -- inserts the element at the given index, shifting elements to the right.\n",
    "    list.extend(list2) adds the elements in list2 to the end of the list. Using + or += on a list is similar to using extend().\n",
    "    list.index(elem) -- searches for the given element from the start of the list and returns its index. Throws a ValueError if the element does not appear (use \"in\" to check without a ValueError).\n",
    "    list.remove(elem) -- searches for the first instance of the given element and removes it (throws ValueError if not present)\n",
    "    list.sort() -- sorts the list in place (does not return it). (The sorted() function shown below is preferred.)\n",
    "    list.reverse() -- reverses the list in place (does not return it)\n",
    "    list.pop(index) -- removes and returns the element at the given index. Returns the rightmost element if index is omitted (roughly the opposite of append()).\n",
    "\n",
    "Notice that these are *methods* on a list object, while len() is a function that takes the list (or string or whatever) as an argument.\n",
    "\n",
    "Common error: note that the above methods do not *return* the modified list, they just modify the original list."
   ]
  }
 ],
 "metadata": {
  "kernelspec": {
   "display_name": "Python 3",
   "language": "python",
   "name": "python3"
  },
  "language_info": {
   "codemirror_mode": {
    "name": "ipython",
    "version": 3
   },
   "file_extension": ".py",
   "mimetype": "text/x-python",
   "name": "python",
   "nbconvert_exporter": "python",
   "pygments_lexer": "ipython3",
   "version": "3.5.2"
  }
 },
 "nbformat": 4,
 "nbformat_minor": 2
}
