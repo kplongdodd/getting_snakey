{
 "cells": [
  {
   "cell_type": "markdown",
   "metadata": {},
   "source": [
    "# Persisting Python Objects with Pickle"
   ]
  },
  {
   "cell_type": "code",
   "execution_count": 13,
   "metadata": {},
   "outputs": [],
   "source": [
    "import pickle\n",
    "import numpy as np"
   ]
  },
  {
   "cell_type": "markdown",
   "metadata": {},
   "source": [
    "## Create a large matrix"
   ]
  },
  {
   "cell_type": "code",
   "execution_count": 19,
   "metadata": {},
   "outputs": [
    {
     "data": {
      "text/plain": [
       "array([[ 0.55685427,  0.67377372,  0.93636882, ...,  0.14064272,\n",
       "         0.28793591,  0.99981701],\n",
       "       [ 0.18014715,  0.01540102,  0.8389781 , ...,  0.09270768,\n",
       "         0.66373869,  0.12497274],\n",
       "       [ 0.70637736,  0.47167116,  0.70062339, ...,  0.97362096,\n",
       "         0.47924741,  0.40432938],\n",
       "       ..., \n",
       "       [ 0.17819133,  0.78364869,  0.82742832, ...,  0.11303775,\n",
       "         0.4725445 ,  0.55089429],\n",
       "       [ 0.47898861,  0.90147742,  0.83588282, ...,  0.30699069,\n",
       "         0.40236085,  0.56165256],\n",
       "       [ 0.13179184,  0.01772007,  0.64329815, ...,  0.25906713,\n",
       "         0.18627051,  0.82211278]])"
      ]
     },
     "execution_count": 19,
     "metadata": {},
     "output_type": "execute_result"
    }
   ],
   "source": [
    "big_array = np.random.rand(10000, 10000)\n",
    "big_array"
   ]
  },
  {
   "cell_type": "markdown",
   "metadata": {},
   "source": [
    "## Pickle the matrix to the current working directory\n",
    "\n",
    "Note `'wb'` specifies a writable, binary file."
   ]
  },
  {
   "cell_type": "code",
   "execution_count": 20,
   "metadata": {},
   "outputs": [],
   "source": [
    "pkl_output = open('big_array.pkl', 'wb')\n",
    "pickle.dump(big_array, pkl_output)\n",
    "pkl_output.close()"
   ]
  },
  {
   "cell_type": "markdown",
   "metadata": {},
   "source": [
    "## Delete matrix"
   ]
  },
  {
   "cell_type": "code",
   "execution_count": 21,
   "metadata": {},
   "outputs": [],
   "source": [
    "del big_array"
   ]
  },
  {
   "cell_type": "markdown",
   "metadata": {},
   "source": [
    "## Read in pickled object"
   ]
  },
  {
   "cell_type": "code",
   "execution_count": 22,
   "metadata": {},
   "outputs": [
    {
     "data": {
      "text/plain": [
       "array([[ 0.55685427,  0.67377372,  0.93636882, ...,  0.14064272,\n",
       "         0.28793591,  0.99981701],\n",
       "       [ 0.18014715,  0.01540102,  0.8389781 , ...,  0.09270768,\n",
       "         0.66373869,  0.12497274],\n",
       "       [ 0.70637736,  0.47167116,  0.70062339, ...,  0.97362096,\n",
       "         0.47924741,  0.40432938],\n",
       "       ..., \n",
       "       [ 0.17819133,  0.78364869,  0.82742832, ...,  0.11303775,\n",
       "         0.4725445 ,  0.55089429],\n",
       "       [ 0.47898861,  0.90147742,  0.83588282, ...,  0.30699069,\n",
       "         0.40236085,  0.56165256],\n",
       "       [ 0.13179184,  0.01772007,  0.64329815, ...,  0.25906713,\n",
       "         0.18627051,  0.82211278]])"
      ]
     },
     "execution_count": 22,
     "metadata": {},
     "output_type": "execute_result"
    }
   ],
   "source": [
    "pkl_input = open('big_array.pkl', 'rb')\n",
    "big_array = pickle.load(pkl_input)\n",
    "pkl_input.close()\n",
    "\n",
    "big_array"
   ]
  },
  {
   "cell_type": "markdown",
   "metadata": {},
   "source": [
    "## Clean up local directory\n",
    "\n",
    "Use `!` to run a shell command"
   ]
  },
  {
   "cell_type": "code",
   "execution_count": 23,
   "metadata": {},
   "outputs": [],
   "source": [
    "! rm big_array.pkl"
   ]
  }
 ],
 "metadata": {
  "kernelspec": {
   "display_name": "Python 3",
   "language": "python",
   "name": "python3"
  },
  "language_info": {
   "codemirror_mode": {
    "name": "ipython",
    "version": 3
   },
   "file_extension": ".py",
   "mimetype": "text/x-python",
   "name": "python",
   "nbconvert_exporter": "python",
   "pygments_lexer": "ipython3",
   "version": "3.5.2"
  }
 },
 "nbformat": 4,
 "nbformat_minor": 2
}
