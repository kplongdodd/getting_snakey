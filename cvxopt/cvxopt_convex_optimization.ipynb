{
 "cells": [
  {
   "cell_type": "markdown",
   "metadata": {},
   "source": [
    "# Convex Optimization with cvxopt\n",
    "\n",
    "The set $C$ is convex if it satisfies the condition that for any $ (x, y) $ belonging to it, the chord connecting $x$ and $y$ is contained within $C$.\n",
    "\n",
    "<img src=\"https://3.bp.blogspot.com/-owpj4sc4Zf8/VtZZxSAGwEI/AAAAAAAAAbo/tPhIpmTYm-w/s1600/convex%2Bset.png\" alt=\"An example of a convex and non-convex set\" title=\"Convexity\" />\n",
    "\n",
    "A function is convex if the line (or plane, or hyperplane) joining any two points is above or on the function itself. If the function is twice differentiable, the second derivative is always greater than or equal to zero. \n",
    "\n",
    "The quadractic fuction $y=x^2$ is an example of a convex function. \n",
    "\n",
    "A common optimization problem is to minimize (or maximize the negative of) a function with respect to a set of constraints. \n",
    "\n",
    "## Examples of Convex Optimization Problems\n",
    "\n",
    "### Linear Programming\n",
    "\n",
    "minimize  \n",
    "> $ c^Tx $  \n",
    "\n",
    "subject to:  \n",
    "> $ Gx + s = h $  \n",
    "> $ Ax = b $  \n",
    "> $ s \\succeq 0 $  \n",
    "\n",
    "### Quadratic Programming\n",
    "\n",
    "minimize  \n",
    "> $ \\frac{1}{2}x^TPx + q^Tx $\n",
    "\n",
    "subject to:\n",
    "> $ Gx \\preceq h $  \n",
    "> $ Ax = b $\n",
    "\n",
    "\n"
   ]
  },
  {
   "cell_type": "code",
   "execution_count": null,
   "metadata": {},
   "outputs": [],
   "source": []
  }
 ],
 "metadata": {
  "kernelspec": {
   "display_name": "Python 3",
   "language": "python",
   "name": "python3"
  },
  "language_info": {
   "codemirror_mode": {
    "name": "ipython",
    "version": 3
   },
   "file_extension": ".py",
   "mimetype": "text/x-python",
   "name": "python",
   "nbconvert_exporter": "python",
   "pygments_lexer": "ipython3",
   "version": "3.5.2"
  }
 },
 "nbformat": 4,
 "nbformat_minor": 2
}
