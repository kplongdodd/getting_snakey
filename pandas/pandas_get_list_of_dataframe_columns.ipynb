{
 "cells": [
  {
   "cell_type": "markdown",
   "metadata": {},
   "source": [
    "# Create List of DataFrame Columns\n"
   ]
  },
  {
   "cell_type": "code",
   "execution_count": 1,
   "metadata": {},
   "outputs": [],
   "source": [
    "import pandas as pd\n",
    "import numpy as np"
   ]
  },
  {
   "cell_type": "code",
   "execution_count": 2,
   "metadata": {},
   "outputs": [
    {
     "data": {
      "text/html": [
       "<div>\n",
       "<style>\n",
       "    .dataframe thead tr:only-child th {\n",
       "        text-align: right;\n",
       "    }\n",
       "\n",
       "    .dataframe thead th {\n",
       "        text-align: left;\n",
       "    }\n",
       "\n",
       "    .dataframe tbody tr th {\n",
       "        vertical-align: top;\n",
       "    }\n",
       "</style>\n",
       "<table border=\"1\" class=\"dataframe\">\n",
       "  <thead>\n",
       "    <tr style=\"text-align: right;\">\n",
       "      <th></th>\n",
       "      <th>A</th>\n",
       "      <th>B</th>\n",
       "      <th>C</th>\n",
       "      <th>D</th>\n",
       "      <th>E</th>\n",
       "    </tr>\n",
       "  </thead>\n",
       "  <tbody>\n",
       "    <tr>\n",
       "      <th>0</th>\n",
       "      <td>0.609218</td>\n",
       "      <td>0.465525</td>\n",
       "      <td>0.254827</td>\n",
       "      <td>0.867128</td>\n",
       "      <td>0.383458</td>\n",
       "    </tr>\n",
       "    <tr>\n",
       "      <th>1</th>\n",
       "      <td>0.896833</td>\n",
       "      <td>0.481676</td>\n",
       "      <td>0.413698</td>\n",
       "      <td>0.222744</td>\n",
       "      <td>0.516486</td>\n",
       "    </tr>\n",
       "    <tr>\n",
       "      <th>2</th>\n",
       "      <td>0.753839</td>\n",
       "      <td>0.004563</td>\n",
       "      <td>0.262873</td>\n",
       "      <td>0.569079</td>\n",
       "      <td>0.747983</td>\n",
       "    </tr>\n",
       "    <tr>\n",
       "      <th>3</th>\n",
       "      <td>0.765157</td>\n",
       "      <td>0.949134</td>\n",
       "      <td>0.378512</td>\n",
       "      <td>0.861006</td>\n",
       "      <td>0.425006</td>\n",
       "    </tr>\n",
       "    <tr>\n",
       "      <th>4</th>\n",
       "      <td>0.616988</td>\n",
       "      <td>0.332530</td>\n",
       "      <td>0.105626</td>\n",
       "      <td>0.317052</td>\n",
       "      <td>0.395462</td>\n",
       "    </tr>\n",
       "    <tr>\n",
       "      <th>5</th>\n",
       "      <td>0.133902</td>\n",
       "      <td>0.338759</td>\n",
       "      <td>0.003583</td>\n",
       "      <td>0.430376</td>\n",
       "      <td>0.940756</td>\n",
       "    </tr>\n",
       "    <tr>\n",
       "      <th>6</th>\n",
       "      <td>0.111273</td>\n",
       "      <td>0.140391</td>\n",
       "      <td>0.949444</td>\n",
       "      <td>0.925918</td>\n",
       "      <td>0.192188</td>\n",
       "    </tr>\n",
       "    <tr>\n",
       "      <th>7</th>\n",
       "      <td>0.303917</td>\n",
       "      <td>0.407913</td>\n",
       "      <td>0.078689</td>\n",
       "      <td>0.438846</td>\n",
       "      <td>0.113706</td>\n",
       "    </tr>\n",
       "    <tr>\n",
       "      <th>8</th>\n",
       "      <td>0.632699</td>\n",
       "      <td>0.108688</td>\n",
       "      <td>0.863686</td>\n",
       "      <td>0.113347</td>\n",
       "      <td>0.983550</td>\n",
       "    </tr>\n",
       "    <tr>\n",
       "      <th>9</th>\n",
       "      <td>0.230748</td>\n",
       "      <td>0.428215</td>\n",
       "      <td>0.067725</td>\n",
       "      <td>0.962958</td>\n",
       "      <td>0.482263</td>\n",
       "    </tr>\n",
       "  </tbody>\n",
       "</table>\n",
       "</div>"
      ],
      "text/plain": [
       "          A         B         C         D         E\n",
       "0  0.609218  0.465525  0.254827  0.867128  0.383458\n",
       "1  0.896833  0.481676  0.413698  0.222744  0.516486\n",
       "2  0.753839  0.004563  0.262873  0.569079  0.747983\n",
       "3  0.765157  0.949134  0.378512  0.861006  0.425006\n",
       "4  0.616988  0.332530  0.105626  0.317052  0.395462\n",
       "5  0.133902  0.338759  0.003583  0.430376  0.940756\n",
       "6  0.111273  0.140391  0.949444  0.925918  0.192188\n",
       "7  0.303917  0.407913  0.078689  0.438846  0.113706\n",
       "8  0.632699  0.108688  0.863686  0.113347  0.983550\n",
       "9  0.230748  0.428215  0.067725  0.962958  0.482263"
      ]
     },
     "execution_count": 2,
     "metadata": {},
     "output_type": "execute_result"
    }
   ],
   "source": [
    "df = pd.DataFrame(np.random.random((10, 5)), columns=['A', 'B', 'C', 'D', 'E'])\n",
    "df"
   ]
  },
  {
   "cell_type": "markdown",
   "metadata": {},
   "source": [
    "## Simplest:"
   ]
  },
  {
   "cell_type": "code",
   "execution_count": 6,
   "metadata": {},
   "outputs": [
    {
     "data": {
      "text/plain": [
       "['A', 'B', 'C', 'D', 'E']"
      ]
     },
     "execution_count": 6,
     "metadata": {},
     "output_type": "execute_result"
    }
   ],
   "source": [
    "list(df)"
   ]
  },
  {
   "cell_type": "markdown",
   "metadata": {},
   "source": [
    "## Most performant:"
   ]
  },
  {
   "cell_type": "code",
   "execution_count": 7,
   "metadata": {},
   "outputs": [
    {
     "data": {
      "text/plain": [
       "['A', 'B', 'C', 'D', 'E']"
      ]
     },
     "execution_count": 7,
     "metadata": {},
     "output_type": "execute_result"
    }
   ],
   "source": [
    "df.columns.values.tolist()"
   ]
  },
  {
   "cell_type": "markdown",
   "metadata": {},
   "source": [
    "## Old school:"
   ]
  },
  {
   "cell_type": "code",
   "execution_count": 8,
   "metadata": {},
   "outputs": [
    {
     "data": {
      "text/plain": [
       "['A', 'B', 'C', 'D', 'E']"
      ]
     },
     "execution_count": 8,
     "metadata": {},
     "output_type": "execute_result"
    }
   ],
   "source": [
    "[col for col in df]"
   ]
  },
  {
   "cell_type": "code",
   "execution_count": null,
   "metadata": {},
   "outputs": [],
   "source": []
  }
 ],
 "metadata": {
  "kernelspec": {
   "display_name": "Python 3",
   "language": "python",
   "name": "python3"
  },
  "language_info": {
   "codemirror_mode": {
    "name": "ipython",
    "version": 3
   },
   "file_extension": ".py",
   "mimetype": "text/x-python",
   "name": "python",
   "nbconvert_exporter": "python",
   "pygments_lexer": "ipython3",
   "version": "3.5.2"
  }
 },
 "nbformat": 4,
 "nbformat_minor": 2
}
