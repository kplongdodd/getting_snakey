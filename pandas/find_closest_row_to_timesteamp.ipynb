{
 "cells": [
  {
   "cell_type": "markdown",
   "metadata": {},
   "source": [
    "# Find Row with Closest Index Timestamp to a given Timestamp\n",
    "\n",
    "Super useful for working with irregular time series."
   ]
  },
  {
   "cell_type": "code",
   "execution_count": 2,
   "metadata": {},
   "outputs": [],
   "source": [
    "import numpy as np\n",
    "import pandas as pd\n",
    "from datetime import datetime, timedelta"
   ]
  },
  {
   "cell_type": "markdown",
   "metadata": {},
   "source": [
    "## Create an irregular time series "
   ]
  },
  {
   "cell_type": "code",
   "execution_count": 8,
   "metadata": {},
   "outputs": [
    {
     "data": {
      "text/html": [
       "<div>\n",
       "<style>\n",
       "    .dataframe thead tr:only-child th {\n",
       "        text-align: right;\n",
       "    }\n",
       "\n",
       "    .dataframe thead th {\n",
       "        text-align: left;\n",
       "    }\n",
       "\n",
       "    .dataframe tbody tr th {\n",
       "        vertical-align: top;\n",
       "    }\n",
       "</style>\n",
       "<table border=\"1\" class=\"dataframe\">\n",
       "  <thead>\n",
       "    <tr style=\"text-align: right;\">\n",
       "      <th></th>\n",
       "      <th>0</th>\n",
       "      <th>1</th>\n",
       "      <th>2</th>\n",
       "    </tr>\n",
       "  </thead>\n",
       "  <tbody>\n",
       "    <tr>\n",
       "      <th>2017-10-12 22:00:03.675692125</th>\n",
       "      <td>0.051524</td>\n",
       "      <td>0.115733</td>\n",
       "      <td>0.555332</td>\n",
       "    </tr>\n",
       "    <tr>\n",
       "      <th>2017-10-12 22:00:30.042392641</th>\n",
       "      <td>0.294439</td>\n",
       "      <td>0.570056</td>\n",
       "      <td>0.649781</td>\n",
       "    </tr>\n",
       "    <tr>\n",
       "      <th>2017-10-12 22:00:30.053233749</th>\n",
       "      <td>0.416172</td>\n",
       "      <td>0.451991</td>\n",
       "      <td>0.098536</td>\n",
       "    </tr>\n",
       "    <tr>\n",
       "      <th>2017-10-12 23:59:49.239239505</th>\n",
       "      <td>0.100943</td>\n",
       "      <td>0.913227</td>\n",
       "      <td>0.626268</td>\n",
       "    </tr>\n",
       "    <tr>\n",
       "      <th>2017-10-13 00:08:53.820875979</th>\n",
       "      <td>0.258513</td>\n",
       "      <td>0.104645</td>\n",
       "      <td>0.619284</td>\n",
       "    </tr>\n",
       "    <tr>\n",
       "      <th>2017-10-13 00:14:05.588567599</th>\n",
       "      <td>0.063547</td>\n",
       "      <td>0.303638</td>\n",
       "      <td>0.034929</td>\n",
       "    </tr>\n",
       "    <tr>\n",
       "      <th>2017-10-13 00:14:05.726903825</th>\n",
       "      <td>0.800427</td>\n",
       "      <td>0.044364</td>\n",
       "      <td>0.090181</td>\n",
       "    </tr>\n",
       "    <tr>\n",
       "      <th>2017-10-13 01:09:09.990183121</th>\n",
       "      <td>0.863162</td>\n",
       "      <td>0.523417</td>\n",
       "      <td>0.676401</td>\n",
       "    </tr>\n",
       "  </tbody>\n",
       "</table>\n",
       "</div>"
      ],
      "text/plain": [
       "                                      0         1         2\n",
       "2017-10-12 22:00:03.675692125  0.051524  0.115733  0.555332\n",
       "2017-10-12 22:00:30.042392641  0.294439  0.570056  0.649781\n",
       "2017-10-12 22:00:30.053233749  0.416172  0.451991  0.098536\n",
       "2017-10-12 23:59:49.239239505  0.100943  0.913227  0.626268\n",
       "2017-10-13 00:08:53.820875979  0.258513  0.104645  0.619284\n",
       "2017-10-13 00:14:05.588567599  0.063547  0.303638  0.034929\n",
       "2017-10-13 00:14:05.726903825  0.800427  0.044364  0.090181\n",
       "2017-10-13 01:09:09.990183121  0.863162  0.523417  0.676401"
      ]
     },
     "execution_count": 8,
     "metadata": {},
     "output_type": "execute_result"
    }
   ],
   "source": [
    "index = ['2017-10-12 22:00:03.675692125', '2017-10-12 22:00:30.042392641', '2017-10-12 22:00:30.053233749', '2017-10-12 23:59:49.239239505', '2017-10-13 00:08:53.820875979', '2017-10-13 00:14:05.588567599', '2017-10-13 00:14:05.726903825', '2017-10-13 01:09:09.990183121']\n",
    "df = pd.DataFrame(data=np.random.random((len(index), 3)), index=pd.to_datetime(index))\n",
    "df"
   ]
  },
  {
   "cell_type": "markdown",
   "metadata": {},
   "source": [
    "## Specify a timestamp of interest"
   ]
  },
  {
   "cell_type": "code",
   "execution_count": 19,
   "metadata": {},
   "outputs": [
    {
     "data": {
      "text/plain": [
       "Timestamp('2017-10-12 22:14:05.588567599')"
      ]
     },
     "execution_count": 19,
     "metadata": {},
     "output_type": "execute_result"
    }
   ],
   "source": [
    "stamp = df.index[5] - timedelta(hours=2)\n",
    "stamp"
   ]
  },
  {
   "cell_type": "markdown",
   "metadata": {},
   "source": [
    "## Find the row nearest to timestamp"
   ]
  },
  {
   "cell_type": "code",
   "execution_count": 20,
   "metadata": {},
   "outputs": [
    {
     "data": {
      "text/plain": [
       "0    0.416172\n",
       "1    0.451991\n",
       "2    0.098536\n",
       "Name: 2017-10-12 22:00:30.053233749, dtype: float64"
      ]
     },
     "execution_count": 20,
     "metadata": {},
     "output_type": "execute_result"
    }
   ],
   "source": [
    "df.iloc[df.index.get_loc(stamp, method='nearest')]"
   ]
  },
  {
   "cell_type": "markdown",
   "metadata": {},
   "source": [
    "## Find the row nearest to timestamp that is also AFTER timestamp"
   ]
  },
  {
   "cell_type": "code",
   "execution_count": 21,
   "metadata": {},
   "outputs": [
    {
     "data": {
      "text/plain": [
       "0    0.100943\n",
       "1    0.913227\n",
       "2    0.626268\n",
       "Name: 2017-10-12 23:59:49.239239505, dtype: float64"
      ]
     },
     "execution_count": 21,
     "metadata": {},
     "output_type": "execute_result"
    }
   ],
   "source": [
    "df.iloc[df.index.get_loc(stamp, method='bfill')]"
   ]
  },
  {
   "cell_type": "markdown",
   "metadata": {},
   "source": [
    "## Find the row nearest to timestamp that is also BEFORE timestamp"
   ]
  },
  {
   "cell_type": "code",
   "execution_count": 22,
   "metadata": {},
   "outputs": [
    {
     "data": {
      "text/plain": [
       "0    0.416172\n",
       "1    0.451991\n",
       "2    0.098536\n",
       "Name: 2017-10-12 22:00:30.053233749, dtype: float64"
      ]
     },
     "execution_count": 22,
     "metadata": {},
     "output_type": "execute_result"
    }
   ],
   "source": [
    "df.iloc[df.index.get_loc(stamp, method='ffill')]"
   ]
  },
  {
   "cell_type": "code",
   "execution_count": null,
   "metadata": {},
   "outputs": [],
   "source": []
  }
 ],
 "metadata": {
  "kernelspec": {
   "display_name": "Python 3",
   "language": "python",
   "name": "python3"
  },
  "language_info": {
   "codemirror_mode": {
    "name": "ipython",
    "version": 3
   },
   "file_extension": ".py",
   "mimetype": "text/x-python",
   "name": "python",
   "nbconvert_exporter": "python",
   "pygments_lexer": "ipython3",
   "version": "3.5.2"
  }
 },
 "nbformat": 4,
 "nbformat_minor": 2
}
