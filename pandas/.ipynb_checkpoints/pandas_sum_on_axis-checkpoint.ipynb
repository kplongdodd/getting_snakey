{
 "cells": [
  {
   "cell_type": "markdown",
   "metadata": {},
   "source": [
    "# Calculate Row and Column Sums in Pandas\n",
    "\n",
    "https://pandas.pydata.org/pandas-docs/stable/generated/pandas.DataFrame.sum.html"
   ]
  },
  {
   "cell_type": "code",
   "execution_count": 1,
   "metadata": {
    "collapsed": true
   },
   "outputs": [],
   "source": [
    "import pandas as pd\n",
    "import numpy as np"
   ]
  },
  {
   "cell_type": "markdown",
   "metadata": {},
   "source": [
    "## Create some data"
   ]
  },
  {
   "cell_type": "code",
   "execution_count": 12,
   "metadata": {},
   "outputs": [
    {
     "data": {
      "text/html": [
       "<div>\n",
       "<table border=\"1\" class=\"dataframe\">\n",
       "  <thead>\n",
       "    <tr style=\"text-align: right;\">\n",
       "      <th></th>\n",
       "      <th>A</th>\n",
       "      <th>B</th>\n",
       "      <th>C</th>\n",
       "    </tr>\n",
       "  </thead>\n",
       "  <tbody>\n",
       "    <tr>\n",
       "      <th>0</th>\n",
       "      <td>-0.461685</td>\n",
       "      <td>0.730872</td>\n",
       "      <td>-2.478940</td>\n",
       "    </tr>\n",
       "    <tr>\n",
       "      <th>1</th>\n",
       "      <td>-0.188915</td>\n",
       "      <td>-0.552309</td>\n",
       "      <td>0.688647</td>\n",
       "    </tr>\n",
       "    <tr>\n",
       "      <th>2</th>\n",
       "      <td>-0.206518</td>\n",
       "      <td>-1.460290</td>\n",
       "      <td>0.465444</td>\n",
       "    </tr>\n",
       "    <tr>\n",
       "      <th>3</th>\n",
       "      <td>-0.774770</td>\n",
       "      <td>-0.251558</td>\n",
       "      <td>-0.246121</td>\n",
       "    </tr>\n",
       "    <tr>\n",
       "      <th>4</th>\n",
       "      <td>-1.886478</td>\n",
       "      <td>0.364912</td>\n",
       "      <td>-2.525898</td>\n",
       "    </tr>\n",
       "    <tr>\n",
       "      <th>5</th>\n",
       "      <td>-1.139990</td>\n",
       "      <td>-0.155845</td>\n",
       "      <td>0.902333</td>\n",
       "    </tr>\n",
       "    <tr>\n",
       "      <th>6</th>\n",
       "      <td>0.492908</td>\n",
       "      <td>0.555172</td>\n",
       "      <td>1.360270</td>\n",
       "    </tr>\n",
       "    <tr>\n",
       "      <th>7</th>\n",
       "      <td>-2.610439</td>\n",
       "      <td>1.644820</td>\n",
       "      <td>0.588850</td>\n",
       "    </tr>\n",
       "    <tr>\n",
       "      <th>8</th>\n",
       "      <td>-0.078465</td>\n",
       "      <td>0.004781</td>\n",
       "      <td>-1.328723</td>\n",
       "    </tr>\n",
       "    <tr>\n",
       "      <th>9</th>\n",
       "      <td>-0.014604</td>\n",
       "      <td>1.143684</td>\n",
       "      <td>2.182856</td>\n",
       "    </tr>\n",
       "  </tbody>\n",
       "</table>\n",
       "</div>"
      ],
      "text/plain": [
       "          A         B         C\n",
       "0 -0.461685  0.730872 -2.478940\n",
       "1 -0.188915 -0.552309  0.688647\n",
       "2 -0.206518 -1.460290  0.465444\n",
       "3 -0.774770 -0.251558 -0.246121\n",
       "4 -1.886478  0.364912 -2.525898\n",
       "5 -1.139990 -0.155845  0.902333\n",
       "6  0.492908  0.555172  1.360270\n",
       "7 -2.610439  1.644820  0.588850\n",
       "8 -0.078465  0.004781 -1.328723\n",
       "9 -0.014604  1.143684  2.182856"
      ]
     },
     "execution_count": 12,
     "metadata": {},
     "output_type": "execute_result"
    }
   ],
   "source": [
    "df = pd.DataFrame({'A': np.random.randn(10), \n",
    "                   'B': np.random.randn(10),\n",
    "                   'C': np.random.randn(10)})\n",
    "df"
   ]
  },
  {
   "cell_type": "markdown",
   "metadata": {},
   "source": [
    "## Row sums\n",
    "(sum across columns)"
   ]
  },
  {
   "cell_type": "code",
   "execution_count": 13,
   "metadata": {},
   "outputs": [
    {
     "data": {
      "text/html": [
       "<div>\n",
       "<table border=\"1\" class=\"dataframe\">\n",
       "  <thead>\n",
       "    <tr style=\"text-align: right;\">\n",
       "      <th></th>\n",
       "      <th>A</th>\n",
       "      <th>B</th>\n",
       "      <th>C</th>\n",
       "      <th>Sum</th>\n",
       "    </tr>\n",
       "  </thead>\n",
       "  <tbody>\n",
       "    <tr>\n",
       "      <th>0</th>\n",
       "      <td>-0.461685</td>\n",
       "      <td>0.730872</td>\n",
       "      <td>-2.478940</td>\n",
       "      <td>-2.209752</td>\n",
       "    </tr>\n",
       "    <tr>\n",
       "      <th>1</th>\n",
       "      <td>-0.188915</td>\n",
       "      <td>-0.552309</td>\n",
       "      <td>0.688647</td>\n",
       "      <td>-0.052578</td>\n",
       "    </tr>\n",
       "    <tr>\n",
       "      <th>2</th>\n",
       "      <td>-0.206518</td>\n",
       "      <td>-1.460290</td>\n",
       "      <td>0.465444</td>\n",
       "      <td>-1.201364</td>\n",
       "    </tr>\n",
       "    <tr>\n",
       "      <th>3</th>\n",
       "      <td>-0.774770</td>\n",
       "      <td>-0.251558</td>\n",
       "      <td>-0.246121</td>\n",
       "      <td>-1.272448</td>\n",
       "    </tr>\n",
       "    <tr>\n",
       "      <th>4</th>\n",
       "      <td>-1.886478</td>\n",
       "      <td>0.364912</td>\n",
       "      <td>-2.525898</td>\n",
       "      <td>-4.047463</td>\n",
       "    </tr>\n",
       "    <tr>\n",
       "      <th>5</th>\n",
       "      <td>-1.139990</td>\n",
       "      <td>-0.155845</td>\n",
       "      <td>0.902333</td>\n",
       "      <td>-0.393502</td>\n",
       "    </tr>\n",
       "    <tr>\n",
       "      <th>6</th>\n",
       "      <td>0.492908</td>\n",
       "      <td>0.555172</td>\n",
       "      <td>1.360270</td>\n",
       "      <td>2.408350</td>\n",
       "    </tr>\n",
       "    <tr>\n",
       "      <th>7</th>\n",
       "      <td>-2.610439</td>\n",
       "      <td>1.644820</td>\n",
       "      <td>0.588850</td>\n",
       "      <td>-0.376769</td>\n",
       "    </tr>\n",
       "    <tr>\n",
       "      <th>8</th>\n",
       "      <td>-0.078465</td>\n",
       "      <td>0.004781</td>\n",
       "      <td>-1.328723</td>\n",
       "      <td>-1.402406</td>\n",
       "    </tr>\n",
       "    <tr>\n",
       "      <th>9</th>\n",
       "      <td>-0.014604</td>\n",
       "      <td>1.143684</td>\n",
       "      <td>2.182856</td>\n",
       "      <td>3.311936</td>\n",
       "    </tr>\n",
       "  </tbody>\n",
       "</table>\n",
       "</div>"
      ],
      "text/plain": [
       "          A         B         C       Sum\n",
       "0 -0.461685  0.730872 -2.478940 -2.209752\n",
       "1 -0.188915 -0.552309  0.688647 -0.052578\n",
       "2 -0.206518 -1.460290  0.465444 -1.201364\n",
       "3 -0.774770 -0.251558 -0.246121 -1.272448\n",
       "4 -1.886478  0.364912 -2.525898 -4.047463\n",
       "5 -1.139990 -0.155845  0.902333 -0.393502\n",
       "6  0.492908  0.555172  1.360270  2.408350\n",
       "7 -2.610439  1.644820  0.588850 -0.376769\n",
       "8 -0.078465  0.004781 -1.328723 -1.402406\n",
       "9 -0.014604  1.143684  2.182856  3.311936"
      ]
     },
     "execution_count": 13,
     "metadata": {},
     "output_type": "execute_result"
    }
   ],
   "source": [
    "df['Sum'] = df.sum(axis=1)\n",
    "df"
   ]
  },
  {
   "cell_type": "markdown",
   "metadata": {},
   "source": [
    "## Column sums\n",
    "(sum down rows)"
   ]
  },
  {
   "cell_type": "code",
   "execution_count": 14,
   "metadata": {},
   "outputs": [
    {
     "data": {
      "text/plain": [
       "A     -6.868955\n",
       "B      2.024239\n",
       "C     -0.391281\n",
       "Sum   -5.235998\n",
       "dtype: float64"
      ]
     },
     "execution_count": 14,
     "metadata": {},
     "output_type": "execute_result"
    }
   ],
   "source": [
    "df.sum(axis=0)"
   ]
  }
 ],
 "metadata": {
  "kernelspec": {
   "display_name": "Python [conda root]",
   "language": "python",
   "name": "conda-root-py"
  },
  "language_info": {
   "codemirror_mode": {
    "name": "ipython",
    "version": 3
   },
   "file_extension": ".py",
   "mimetype": "text/x-python",
   "name": "python",
   "nbconvert_exporter": "python",
   "pygments_lexer": "ipython3",
   "version": "3.5.2"
  }
 },
 "nbformat": 4,
 "nbformat_minor": 2
}
