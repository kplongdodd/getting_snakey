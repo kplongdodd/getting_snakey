{
 "cells": [
  {
   "cell_type": "markdown",
   "metadata": {},
   "source": [
    "# Getting Reproducible Results in Keras (TensorFlow Backend)\n",
    "\n",
    "Due to the stochastic nature of the training process of neural networks, it is possible to end up with different parameters (weights) even when the same network is trained on the same data. \n",
    "\n",
    "Randomness can occur in:  \n",
    "* Weight initialization  \n",
    "* Dropout and other regularization techniques  \n",
    "* Stochastic optimization  \n",
    "  \n",
    "The following lines are required before any other imports:"
   ]
  },
  {
   "cell_type": "code",
   "execution_count": 1,
   "metadata": {},
   "outputs": [],
   "source": [
    "import numpy as np\n",
    "np.random.seed(503)\n",
    "from tensorflow import set_random_seed\n",
    "set_random_seed(3101)"
   ]
  },
  {
   "cell_type": "code",
   "execution_count": 8,
   "metadata": {},
   "outputs": [],
   "source": [
    "import pandas as pd\n",
    "from keras.models import Sequential\n",
    "from keras.layers import Dense\n",
    "from sklearn.metrics import mean_squared_error"
   ]
  },
  {
   "cell_type": "markdown",
   "metadata": {},
   "source": [
    "## Create a sequence to model"
   ]
  },
  {
   "cell_type": "code",
   "execution_count": 11,
   "metadata": {},
   "outputs": [
    {
     "data": {
      "text/plain": [
       "array([ 0.  ,  0.02,  0.04,  0.06,  0.08,  0.1 ,  0.12,  0.14,  0.16,\n",
       "        0.18,  0.2 ,  0.22,  0.24,  0.26,  0.28,  0.3 ,  0.32,  0.34,\n",
       "        0.36,  0.38,  0.4 ,  0.42,  0.44,  0.46,  0.48,  0.5 ,  0.52,\n",
       "        0.54,  0.56,  0.58,  0.6 ,  0.62,  0.64,  0.66,  0.68,  0.7 ,\n",
       "        0.72,  0.74,  0.76,  0.78,  0.8 ,  0.82,  0.84,  0.86,  0.88,\n",
       "        0.9 ,  0.92,  0.94,  0.96])"
      ]
     },
     "execution_count": 11,
     "metadata": {},
     "output_type": "execute_result"
    }
   ],
   "source": [
    "length = 50\n",
    "sequence = [i/float(length) for i in range(length)]\n",
    "\n",
    "df = pd.DataFrame(sequence)\n",
    "df = pd.concat([df.shift(1), df], axis=1)\n",
    "df.dropna(inplace=True)\n",
    "\n",
    "values = df.values\n",
    "X, y = values[:,0], values[:,1]\n",
    "X"
   ]
  },
  {
   "cell_type": "markdown",
   "metadata": {},
   "source": [
    "## Train the same model 10 times, print OOS MSE"
   ]
  },
  {
   "cell_type": "code",
   "execution_count": 12,
   "metadata": {},
   "outputs": [
    {
     "name": "stdout",
     "output_type": "stream",
     "text": [
      "3.60104243689e-05\n",
      "0.000999775902512\n",
      "0.00255375590472\n",
      "4.89465169904e-05\n",
      "0.017339384984\n",
      "3.87794509812e-07\n",
      "2.00117501356e-06\n",
      "2.37342410338e-05\n",
      "0.000548694881858\n",
      "0.00260792317422\n"
     ]
    }
   ],
   "source": [
    "for i in range(10):\n",
    "    model = Sequential()\n",
    "    model.add(Dense(30, input_dim=1))\n",
    "    model.add(Dense(1))\n",
    "    model.compile(loss='mean_squared_error', optimizer='rmsprop')\n",
    "    model.fit(X, y, epochs=100, batch_size=len(X), verbose=0)\n",
    "    # forecast\n",
    "    yhat = model.predict(X, verbose=0)\n",
    "    print(mean_squared_error(y, yhat[:,0]))"
   ]
  },
  {
   "cell_type": "markdown",
   "metadata": {},
   "source": [
    "Note tiny variation in results - but they are extremely close. "
   ]
  },
  {
   "cell_type": "code",
   "execution_count": null,
   "metadata": {},
   "outputs": [],
   "source": []
  }
 ],
 "metadata": {
  "kernelspec": {
   "display_name": "Python 3",
   "language": "python",
   "name": "python3"
  },
  "language_info": {
   "codemirror_mode": {
    "name": "ipython",
    "version": 3
   },
   "file_extension": ".py",
   "mimetype": "text/x-python",
   "name": "python",
   "nbconvert_exporter": "python",
   "pygments_lexer": "ipython3",
   "version": "3.5.2"
  }
 },
 "nbformat": 4,
 "nbformat_minor": 2
}
