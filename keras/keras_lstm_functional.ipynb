{
 "cells": [
  {
   "cell_type": "markdown",
   "metadata": {},
   "source": [
    "# Build a LSTM using Keras' Functional API\n",
    "\n",
    "LSTMs overcome the vanishing/exploding gradient problem associated with RNNs. Cell state controlled via gates (input, forget, output) which are in turn controlled by activation functions. "
   ]
  },
  {
   "cell_type": "code",
   "execution_count": 1,
   "metadata": {},
   "outputs": [
    {
     "name": "stderr",
     "output_type": "stream",
     "text": [
      "Using TensorFlow backend.\n"
     ]
    }
   ],
   "source": [
    "from keras.layers import Input, Embedding, LSTM, Dense\n",
    "from keras.models import Model"
   ]
  },
  {
   "cell_type": "code",
   "execution_count": null,
   "metadata": {},
   "outputs": [],
   "source": [
    "inpt = Input(shape=(x, y))\n",
    "x = LSTM(6)(inpt)\n",
    "outpt = Dense(1)(x) # activation function is linear by default\n",
    "\n",
    "model = Model(inputs=inpt, outputs=outpt)\n",
    "model.compile(optmizer='adam', loss='mae')\n",
    "modelfit(trainX, trainY, epochs=50, batch)"
   ]
  }
 ],
 "metadata": {
  "kernelspec": {
   "display_name": "Python 3",
   "language": "python",
   "name": "python3"
  },
  "language_info": {
   "codemirror_mode": {
    "name": "ipython",
    "version": 3
   },
   "file_extension": ".py",
   "mimetype": "text/x-python",
   "name": "python",
   "nbconvert_exporter": "python",
   "pygments_lexer": "ipython3",
   "version": "3.5.2"
  }
 },
 "nbformat": 4,
 "nbformat_minor": 2
}
